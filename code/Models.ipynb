{
 "cells": [
  {
   "cell_type": "markdown",
   "id": "53482226-2f30-4bd6-b25f-32e44633a3c9",
   "metadata": {},
   "source": [
    "### CLASSIFYING ENZYMES TO FUNCTIONAL CLASSES"
   ]
  },
  {
   "cell_type": "code",
   "execution_count": 1,
   "id": "fa578eba-3270-41f1-9d38-2f5f840dd4ba",
   "metadata": {},
   "outputs": [],
   "source": [
    "# Imports\n",
    "import matplotlib.pyplot as plt\n",
    "import numpy as np\n",
    "import pandas as pd\n",
    "\n",
    "from sklearn.model_selection import train_test_split\n",
    "from sklearn import svm\n",
    "from sklearn.neighbors import KNeighborsClassifier\n",
    "from sklearn.ensemble import RandomForestClassifier\n",
    "from sklearn.metrics import confusion_matrix\n",
    "\n",
    "import torch\n",
    "import torchvision.transforms as transforms\n",
    "import torch.nn as nn\n",
    "import torch.nn.functional as func\n",
    "import torch.optim as opt\n",
    "\n",
    "import warnings\n",
    "warnings.filterwarnings('ignore')"
   ]
  },
  {
   "cell_type": "code",
   "execution_count": 2,
   "id": "306d4fda-c5fb-4f29-8bb7-358ac94892fb",
   "metadata": {},
   "outputs": [],
   "source": [
    "# Read data for SVM, kNN and RF\n",
    "aac = pd.read_csv('../dataset/aac.csv', index_col=0)\n",
    "ctd = pd.read_csv('../dataset/ctd.csv', index_col=0)\n",
    "data = pd.read_csv('../dataset/ngram.csv', index_col=0)\n",
    "data = data.join(ctd[ctd.columns[0:-1]])\n",
    "data = data.join(aac[aac.columns[0:-1]])"
   ]
  },
  {
   "cell_type": "code",
   "execution_count": 3,
   "id": "2028c783-d00b-4683-95a4-7c27231fc639",
   "metadata": {},
   "outputs": [],
   "source": [
    "y = data['class']\n",
    "data = data[data.columns[0:-1]]"
   ]
  },
  {
   "cell_type": "code",
   "execution_count": 4,
   "id": "214b9e21-078b-45a8-9820-2866775c1425",
   "metadata": {},
   "outputs": [],
   "source": [
    "# Split the data\n",
    "X_train, X_test, y_train, y_test = train_test_split(data, y, test_size=0.3)"
   ]
  },
  {
   "cell_type": "code",
   "execution_count": 5,
   "id": "4ae76e09-7de7-4fd9-8f3b-fc6536a9a889",
   "metadata": {},
   "outputs": [],
   "source": [
    "# Normalize the data\n",
    "mean = X_train.mean()\n",
    "std = X_train.std()\n",
    "X_train = (X_train-mean)/std\n",
    "X_test = (X_test-mean)/std"
   ]
  },
  {
   "cell_type": "markdown",
   "id": "d9f64a5a-c86e-47d9-956f-f3b0f959df18",
   "metadata": {},
   "source": [
    "MAJORITY CLASSIFIER"
   ]
  },
  {
   "cell_type": "code",
   "execution_count": 68,
   "id": "d939c90c-9fec-4f7d-bbe2-2eb51158d941",
   "metadata": {},
   "outputs": [
    {
     "name": "stdout",
     "output_type": "stream",
     "text": [
      "0.3363216517250747\n"
     ]
    }
   ],
   "source": [
    "from collections import Counter\n",
    "major = Counter(y_train).most_common()[0][0]\n",
    "major_arr = np.full(len(y_test), major)\n",
    "print(sum(major_arr == y_test)/len(y_test))"
   ]
  },
  {
   "cell_type": "markdown",
   "id": "eecbb719-af24-4f43-9e1c-08dc99bd31b0",
   "metadata": {},
   "source": [
    "SVM CLASSIFIER"
   ]
  },
  {
   "cell_type": "code",
   "execution_count": 6,
   "id": "be8e4ec4-6ce2-4682-8681-d824645621cb",
   "metadata": {},
   "outputs": [],
   "source": [
    "clf_svm = svm.SVC().fit(X_train, y_train)\n",
    "results_svm = clf_svm.predict(X_test)"
   ]
  },
  {
   "cell_type": "code",
   "execution_count": 7,
   "id": "f2376988-0c57-492a-9a33-e666c0e7a666",
   "metadata": {},
   "outputs": [
    {
     "name": "stdout",
     "output_type": "stream",
     "text": [
      "0.7677261613691931\n"
     ]
    }
   ],
   "source": [
    "acc_svm = print(sum(results_svm == y_test)/len(y_test))"
   ]
  },
  {
   "cell_type": "code",
   "execution_count": 8,
   "id": "0e592ac0-cc20-45bb-8a3a-816ca0a10036",
   "metadata": {},
   "outputs": [
    {
     "data": {
      "text/plain": [
       "array([[ 949,  263,    5,    0,    0,    0,    0],\n",
       "       [ 108, 1645,  221,    0,    0,    0,    0],\n",
       "       [   0,  132, 2344,    0,    0,    0,    0],\n",
       "       [   0,    1,  513,   29,    4,    0,    0],\n",
       "       [   0,    0,  146,   54,  120,   54,    0],\n",
       "       [   0,    8,   46,   26,   42,  439,    1],\n",
       "       [   0,    0,   28,    8,    8,   42,  126]])"
      ]
     },
     "execution_count": 8,
     "metadata": {},
     "output_type": "execute_result"
    }
   ],
   "source": [
    "confusion_matrix(y_test, results_svm)"
   ]
  },
  {
   "cell_type": "markdown",
   "id": "54ca37de-66fb-4b8e-87be-4dad885ba580",
   "metadata": {},
   "source": [
    "kNN CLASSIFIER"
   ]
  },
  {
   "cell_type": "code",
   "execution_count": 9,
   "id": "4eacf200-94d1-4c0d-9202-6f37b442791f",
   "metadata": {},
   "outputs": [],
   "source": [
    "clf_knn = KNeighborsClassifier(n_neighbors=5).fit(X_train, y_train)\n",
    "results_knn = clf_knn.predict(X_test)"
   ]
  },
  {
   "cell_type": "code",
   "execution_count": 10,
   "id": "eaa5657c-5332-4628-adc3-c57a87c2c071",
   "metadata": {},
   "outputs": [
    {
     "name": "stdout",
     "output_type": "stream",
     "text": [
      "0.3928280358598207\n"
     ]
    }
   ],
   "source": [
    "acc_knn = print(sum(results_knn == y_test)/len(y_test))"
   ]
  },
  {
   "cell_type": "code",
   "execution_count": 11,
   "id": "f54220c9-74fd-4237-a8e5-768fb683e97d",
   "metadata": {},
   "outputs": [
    {
     "data": {
      "text/plain": [
       "array([[ 748,  236,  189,   15,    7,   21,    1],\n",
       "       [ 627,  739,  514,   24,   15,   54,    1],\n",
       "       [ 633,  629, 1072,   39,   30,   70,    3],\n",
       "       [ 178,  143,  139,   47,   10,   30,    0],\n",
       "       [  98,   83,   94,   19,   61,   18,    1],\n",
       "       [  82,  118,  151,    9,   17,  181,    4],\n",
       "       [  24,   68,   54,    4,    3,   15,   44]])"
      ]
     },
     "execution_count": 11,
     "metadata": {},
     "output_type": "execute_result"
    }
   ],
   "source": [
    "confusion_matrix(y_test, results_knn)"
   ]
  },
  {
   "cell_type": "markdown",
   "id": "1cfecebc-2d31-4b3b-a2f6-8b152a322fcf",
   "metadata": {},
   "source": [
    "RANDOM FOREST"
   ]
  },
  {
   "cell_type": "code",
   "execution_count": 12,
   "id": "360312b4-80e1-4869-b136-e2631e1521d5",
   "metadata": {},
   "outputs": [],
   "source": [
    "clf_rf = RandomForestClassifier().fit(X_train, y_train)\n",
    "results_rf = clf_rf.predict(X_test)"
   ]
  },
  {
   "cell_type": "code",
   "execution_count": 13,
   "id": "a1188f23-646c-4f0c-aeeb-451260fff0ac",
   "metadata": {},
   "outputs": [
    {
     "name": "stdout",
     "output_type": "stream",
     "text": [
      "0.7599837000814996\n"
     ]
    }
   ],
   "source": [
    "acc_rf = print(sum(results_rf == y_test)/len(y_test))"
   ]
  },
  {
   "cell_type": "code",
   "execution_count": 14,
   "id": "f7c996d7-f1ca-489a-9288-b43c1a665dd8",
   "metadata": {},
   "outputs": [
    {
     "data": {
      "text/plain": [
       "array([[1061,  154,    2,    0,    0,    0,    0],\n",
       "       [   9, 1947,   18,    0,    0,    0,    0],\n",
       "       [   0,    1, 2474,    0,    0,    1,    0],\n",
       "       [   0,    8,  534,    2,    1,    2,    0],\n",
       "       [   0,    6,  360,    1,    2,    5,    0],\n",
       "       [   1,   24,  470,    1,    0,   66,    0],\n",
       "       [   1,    9,  156,    0,    0,    3,   43]])"
      ]
     },
     "execution_count": 14,
     "metadata": {},
     "output_type": "execute_result"
    }
   ],
   "source": [
    "confusion_matrix(y_test, results_rf)"
   ]
  },
  {
   "cell_type": "markdown",
   "id": "d4b76f93-b1fd-4f59-9c8e-4fa89e99d90e",
   "metadata": {},
   "source": [
    "\n",
    "NEURAL NETWORK"
   ]
  },
  {
   "cell_type": "code",
   "execution_count": 15,
   "id": "adb7d307-fd2e-43ba-afd5-5f5d07a9ec4e",
   "metadata": {},
   "outputs": [],
   "source": [
    "with open('../dataset/ID_bin.txt') as handle:\n",
    "    names_bin = handle.read().strip().split('\\n')\n",
    "with open('../dataset/ID_pssm.txt') as handle:\n",
    "    names_pssm = handle.read().strip().split('\\n')\n",
    "    \n",
    "truths = pd.read_csv('../dataset/IdEc.csv')\n",
    "truths['class'] = truths['EC'].map(lambda x: x.split('.')[0])\n",
    "labels_bin = [int(t) for t in truths.loc[truths['ID'].isin(names_bin), 'class'].to_list()]\n",
    "labels_pssm = [int(t) for t in truths.loc[truths['ID'].isin(names_pssm), 'class'].to_list()]"
   ]
  },
  {
   "cell_type": "code",
   "execution_count": 16,
   "id": "6a70aee4-af2c-49ce-ba8a-27ac07db4139",
   "metadata": {},
   "outputs": [
    {
     "name": "stdout",
     "output_type": "stream",
     "text": [
      "24615\n",
      "20099\n"
     ]
    }
   ],
   "source": [
    "print(len(names_bin))\n",
    "print(len(names_pssm))"
   ]
  },
  {
   "cell_type": "code",
   "execution_count": 39,
   "id": "b6619e23-a72c-416a-aeb2-675f17988cc8",
   "metadata": {},
   "outputs": [],
   "source": [
    "def tt(arr):\n",
    "    return [torch.tensor([a]) for a in arr]"
   ]
  },
  {
   "cell_type": "code",
   "execution_count": 40,
   "id": "03028fa5-bcb3-4864-9309-d532e308d4bc",
   "metadata": {},
   "outputs": [],
   "source": [
    "# Read data for NN\n",
    "\n",
    "binary = [np.loadtxt('../dataset/binary/'+name+'.txt', dtype='double') for name in names_bin]\n",
    "#pssm = [np.loadtxt('../dataset/pssm_parsed/'+name+'.txt', dtype='double') for name in names_pssm]\n",
    "\n",
    "bin_train, bin_test, ybin_train, ybin_test = train_test_split(binary, labels_bin, test_size=0.3)\n",
    "#pssm_train, pssm_test, ypssm_train, ypssm_test = train_test_split(pssm, labels_pssm, test_size=0.3)\n",
    "\n",
    "bin_train = torch.utils.data.DataLoader(tt(bin_train), shuffle=False, num_workers=2)\n",
    "bin_test = torch.utils.data.DataLoader(tt(bin_test), shuffle=False, num_workers=2)\n",
    "\n",
    "#pssm_train = torch.utils.data.DataLoader(tt(pssm_train), shuffle=False, num_workers=2)\n",
    "#pssm_test = torch.utils.data.DataLoader(tt(pssm_test), shuffle=False, num_workers=2)"
   ]
  },
  {
   "cell_type": "code",
   "execution_count": 91,
   "id": "c1ecdd4e-320a-4dc2-bbdd-0c775095d8dc",
   "metadata": {},
   "outputs": [],
   "source": [
    "class Net(nn.Module):\n",
    "    def __init__(self):\n",
    "        super().__init__()\n",
    "        self.conv1 = nn.Conv2d(1, 20, 5)\n",
    "        self.pool = nn.MaxPool2d(2, 2)\n",
    "        self.conv2 = nn.Conv2d(20, 16, 5)\n",
    "        self.fc_gap = nn.Linear(16, 10)\n",
    "        self.fc2 = nn.Linear(10, 7)\n",
    "        self.fc3 = nn.Softmax()\n",
    "\n",
    "    def forward(self, x):\n",
    "        x = self.pool(func.relu(self.conv1(x)))\n",
    "        x = self.pool(func.relu(self.conv2(x)))\n",
    "        x = x.mean(dim=(-1, -2))\n",
    "        x = func.relu(self.fc_gap(x))\n",
    "        x = func.relu(self.fc2(x))\n",
    "        x = self.fc3(x)\n",
    "        return x\n",
    "\n",
    "\n",
    "net = Net()"
   ]
  },
  {
   "cell_type": "code",
   "execution_count": null,
   "id": "c7174584-710c-4418-9697-35ba1a990e22",
   "metadata": {},
   "outputs": [],
   "source": [
    "class CN(nn.Module):\n",
    "    def __init__(self):"
   ]
  },
  {
   "cell_type": "code",
   "execution_count": 42,
   "id": "c94ff12d-8c9f-4969-8a3b-5d2e29d9139f",
   "metadata": {},
   "outputs": [],
   "source": [
    "criterion = nn.CrossEntropyLoss()\n",
    "optimizer = opt.SGD(net.parameters(), lr=0.001, momentum=0.9)"
   ]
  },
  {
   "cell_type": "code",
   "execution_count": 92,
   "id": "6e4cc9d4-6ce4-4727-b88a-73e54ca4a490",
   "metadata": {},
   "outputs": [],
   "source": [
    "def train_nn(data, labels):\n",
    "    for epoch in [0]:  # loop over the dataset multiple times\n",
    "\n",
    "        running_loss = 0.0\n",
    "        for i, data in enumerate(data):\n",
    "            inputs = data.float()\n",
    "            optimizer.zero_grad()\n",
    "\n",
    "            outputs = net(inputs)\n",
    "            label = np.zeros([7])\n",
    "            label[labels[i]-1] = 1\n",
    "            loss = criterion(outputs, torch.Tensor(label))\n",
    "            loss.backward()\n",
    "            optimizer.step()\n",
    "\n",
    "            running_loss += loss.item()\n",
    "            if i % 2000 == 1999:    # print every 2000 mini-batches\n",
    "                print(f'[{epoch + 1}, {i + 1:5d}] loss: {running_loss / 2000:.3f}')\n",
    "                running_loss = 0.0\n",
    "\n",
    "    print('Finished Training')"
   ]
  },
  {
   "cell_type": "code",
   "execution_count": 93,
   "id": "2428c89e-e14d-4453-acc1-ca6525a91626",
   "metadata": {},
   "outputs": [
    {
     "name": "stdout",
     "output_type": "stream",
     "text": [
      "[1,  2000] loss: 1.947\n",
      "[1,  4000] loss: 1.947\n",
      "[1,  6000] loss: 1.947\n",
      "[1,  8000] loss: 1.947\n",
      "[1, 10000] loss: 1.947\n",
      "[1, 12000] loss: 1.947\n",
      "[1, 14000] loss: 1.947\n",
      "[1, 16000] loss: 1.947\n",
      "Finished Training\n"
     ]
    }
   ],
   "source": [
    "net_bin = train_nn(bin_train.dataset, ybin_train)\n"
   ]
  },
  {
   "cell_type": "code",
   "execution_count": 59,
   "id": "0cf97d05-a9f9-476b-bbc3-4adc5f071e72",
   "metadata": {},
   "outputs": [],
   "source": [
    "PATH = './model_NNbin.pth'\n",
    "torch.save(net.state_dict(), PATH)"
   ]
  },
  {
   "cell_type": "code",
   "execution_count": null,
   "id": "8d5033d6-21cc-4572-901c-8a28c41e9cca",
   "metadata": {},
   "outputs": [],
   "source": [
    "pred = []\n",
    "for test in bin_test:\n",
    "    pred.append(net(test.float()))"
   ]
  },
  {
   "cell_type": "code",
   "execution_count": null,
   "id": "e30d2dbc-006a-4646-9303-7dd374063e85",
   "metadata": {},
   "outputs": [],
   "source": []
  }
 ],
 "metadata": {
  "kernelspec": {
   "display_name": "Python 3 (ipykernel)",
   "language": "python",
   "name": "python3"
  },
  "language_info": {
   "codemirror_mode": {
    "name": "ipython",
    "version": 3
   },
   "file_extension": ".py",
   "mimetype": "text/x-python",
   "name": "python",
   "nbconvert_exporter": "python",
   "pygments_lexer": "ipython3",
   "version": "3.10.6"
  }
 },
 "nbformat": 4,
 "nbformat_minor": 5
}
